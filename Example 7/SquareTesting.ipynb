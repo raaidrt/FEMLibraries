{
 "cells": [
  {
   "cell_type": "code",
   "execution_count": 42,
   "id": "b5dabdd4",
   "metadata": {
    "jupyter": {
     "source_hidden": true
    }
   },
   "outputs": [],
   "source": [
    "import sys; sys.path.append('..')\n",
    "def REQUIRES(x): assert(x)\n",
    "ENSURES = REQUIRES\n",
    "from bending_validation import *\n",
    "import elastic_rods, sparse_matrices, pickle, scipy, linkage_vis, numpy as np, time\n",
    "from typing import NamedTuple\n",
    "from bending_validation import suppress_stdout as so"
   ]
  },
  {
   "cell_type": "code",
   "execution_count": 43,
   "id": "084a547e",
   "metadata": {},
   "outputs": [],
   "source": [
    "pts = np.array([[-500,500,0], [500,500,0],[500,-500,0],[-500,-500,0]])\n",
    "edges = np.array([[0,1],[1,2],[2,3],[3,0]])  "
   ]
  },
  {
   "cell_type": "code",
   "execution_count": 44,
   "id": "0efd3a02",
   "metadata": {},
   "outputs": [],
   "source": [
    "sq = elastic_rods.RodLinkage(pts, edges, 5)"
   ]
  },
  {
   "cell_type": "code",
   "execution_count": 45,
   "id": "66659f62",
   "metadata": {},
   "outputs": [
    {
     "name": "stdout",
     "output_type": "stream",
     "text": [
      "0\t7.42756e-21\t8.8661e-08\t8.8661e-08\t1\t0\n",
      "1\t6.16298e-22\t1.66533e-08\t1.66533e-08\t1\t0\n"
     ]
    },
    {
     "data": {
      "text/plain": [
       "<elastic_rods.ConvergenceReport at 0x7fb4ca302a70>"
      ]
     },
     "execution_count": 45,
     "metadata": {},
     "output_type": "execute_result"
    }
   ],
   "source": [
    "driver=sq.centralJoint()\n",
    "sq.setMaterial(elastic_rods.RodMaterial('rectangle', 4.0e10 / 1e6, 0.3, [50, 50]))\n",
    "\n",
    "elastic_rods.restlen_solve(sq)"
   ]
  },
  {
   "cell_type": "code",
   "execution_count": 46,
   "id": "d29c7e2c",
   "metadata": {},
   "outputs": [
    {
     "data": {
      "text/plain": [
       "0"
      ]
     },
     "execution_count": 46,
     "metadata": {},
     "output_type": "execute_result"
    }
   ],
   "source": [
    "driver # the joint index i.e. as there are 4 joints, 0th index is the 1st joint"
   ]
  },
  {
   "cell_type": "code",
   "execution_count": 47,
   "id": "6bfd1e4b",
   "metadata": {},
   "outputs": [
    {
     "data": {
      "text/plain": [
       "36"
      ]
     },
     "execution_count": 47,
     "metadata": {},
     "output_type": "execute_result"
    }
   ],
   "source": [
    "sq.dofOffsetForJoint(driver) # the exact index of this joint in the DoFs array"
   ]
  },
  {
   "cell_type": "code",
   "execution_count": 48,
   "id": "a1e3f6c8",
   "metadata": {},
   "outputs": [
    {
     "data": {
      "text/plain": [
       "array([-5.00000000e+02,  5.00000000e+02,  0.00000000e+00, -1.18316196e-63,\n",
       "        9.22969858e-32, -2.75803504e-48])"
      ]
     },
     "execution_count": 48,
     "metadata": {},
     "output_type": "execute_result"
    }
   ],
   "source": [
    "sq.getDoFs()[36:42] # x, y, z coordinates + some other parameters ?"
   ]
  },
  {
   "cell_type": "code",
   "execution_count": 49,
   "id": "d7d13459",
   "metadata": {},
   "outputs": [
    {
     "data": {
      "text/plain": [
       "(45, 54, 63)"
      ]
     },
     "execution_count": 49,
     "metadata": {},
     "output_type": "execute_result"
    }
   ],
   "source": [
    "sq.dofOffsetForJoint(1), sq.dofOffsetForJoint(2), sq.dofOffsetForJoint(3)"
   ]
  },
  {
   "cell_type": "code",
   "execution_count": 50,
   "id": "2752b42a",
   "metadata": {},
   "outputs": [
    {
     "data": {
      "text/plain": [
       "(array([ 5.00000000e+02,  5.00000000e+02,  0.00000000e+00,  4.13673768e-64,\n",
       "        -4.38087762e-32,  1.29269371e-48]),\n",
       " array([ 5.00000000e+02, -5.00000000e+02,  0.00000000e+00,  1.01288780e-64,\n",
       "        -1.44377466e-32,  3.21779887e-48]),\n",
       " array([-5.00000000e+02, -5.00000000e+02,  0.00000000e+00, -2.36850850e-64,\n",
       "         5.16550102e-32, -2.06766256e-48]))"
      ]
     },
     "execution_count": 50,
     "metadata": {},
     "output_type": "execute_result"
    }
   ],
   "source": [
    "sq.getDoFs()[45:51], sq.getDoFs()[54:60], sq.getDoFs()[63:69]"
   ]
  },
  {
   "cell_type": "code",
   "execution_count": 51,
   "id": "d3ef39fe",
   "metadata": {},
   "outputs": [
    {
     "ename": "IndexError",
     "evalue": "vector::_M_range_check: __n (which is 4) >= this->size() (which is 4)",
     "output_type": "error",
     "traceback": [
      "\u001b[0;31m---------------------------------------------------------------------------\u001b[0m",
      "\u001b[0;31mIndexError\u001b[0m                                Traceback (most recent call last)",
      "\u001b[0;32m/tmp/ipykernel_5493/2233885464.py\u001b[0m in \u001b[0;36m<module>\u001b[0;34m\u001b[0m\n\u001b[0;32m----> 1\u001b[0;31m \u001b[0msq\u001b[0m\u001b[0;34m.\u001b[0m\u001b[0mdofOffsetForJoint\u001b[0m\u001b[0;34m(\u001b[0m\u001b[0;36m4\u001b[0m\u001b[0;34m)\u001b[0m\u001b[0;34m\u001b[0m\u001b[0;34m\u001b[0m\u001b[0m\n\u001b[0m",
      "\u001b[0;31mIndexError\u001b[0m: vector::_M_range_check: __n (which is 4) >= this->size() (which is 4)"
     ]
    }
   ],
   "source": [
    "sq.dofOffsetForJoint(4)"
   ]
  },
  {
   "cell_type": "code",
   "execution_count": 52,
   "id": "92ed3f64",
   "metadata": {},
   "outputs": [
    {
     "name": "stdout",
     "output_type": "stream",
     "text": [
      "0\t6.16298e-22\t1.57009e-08\t1.57009e-08\t0\t0\n"
     ]
    },
    {
     "data": {
      "text/plain": [
       "<elastic_rods.ConvergenceReport at 0x7fb4ca2f9d70>"
      ]
     },
     "execution_count": 52,
     "metadata": {},
     "output_type": "execute_result"
    }
   ],
   "source": [
    "jdo = sq.dofOffsetForJoint(driver)\n",
    "fixedVars = list(range(jdo, jdo + 6)) # fix rigid motion for a single joint\n",
    "elastic_rods.compute_equilibrium(sq, fixedVars=fixedVars)"
   ]
  },
  {
   "cell_type": "code",
   "execution_count": 53,
   "id": "8b0f7b56",
   "metadata": {},
   "outputs": [
    {
     "data": {
      "application/vnd.jupyter.widget-view+json": {
       "model_id": "283c7a95c693486eaa807b49fd1333f6",
       "version_major": 2,
       "version_minor": 0
      },
      "text/plain": [
       "Renderer(camera=PerspectiveCamera(children=(PointLight(color='white', intensity=0.6, position=(0.0, 0.0, 5.0),…"
      ]
     },
     "metadata": {},
     "output_type": "display_data"
    }
   ],
   "source": [
    "# Original View\n",
    "view = linkage_vis.LinkageViewer(sq)\n",
    "view.show()"
   ]
  },
  {
   "cell_type": "code",
   "execution_count": 54,
   "id": "d2dcb183",
   "metadata": {},
   "outputs": [],
   "source": [
    "jointDoFIndices = sq.jointDoFIndices()"
   ]
  },
  {
   "cell_type": "code",
   "execution_count": 55,
   "id": "5720744a",
   "metadata": {},
   "outputs": [
    {
     "data": {
      "text/plain": [
       "array([36, 37, 38, 39, 40, 41, 42, 43, 44, 45, 46, 47, 48, 49, 50, 51, 52,\n",
       "       53, 54, 55, 56, 57, 58, 59, 60, 61, 62, 63, 64, 65, 66, 67, 68, 69,\n",
       "       70, 71])"
      ]
     },
     "execution_count": 55,
     "metadata": {},
     "output_type": "execute_result"
    }
   ],
   "source": [
    "np.array(jointDoFIndices)"
   ]
  },
  {
   "cell_type": "code",
   "execution_count": 56,
   "id": "7e9ec4f6",
   "metadata": {},
   "outputs": [
    {
     "data": {
      "text/plain": [
       "36"
      ]
     },
     "execution_count": 56,
     "metadata": {},
     "output_type": "execute_result"
    }
   ],
   "source": [
    "len(jointDoFIndices)"
   ]
  },
  {
   "cell_type": "code",
   "execution_count": 57,
   "id": "9c374549",
   "metadata": {},
   "outputs": [
    {
     "data": {
      "text/plain": [
       "array([-500.        ,  500.        ,    0.        ,    0.        ,\n",
       "          0.        ,    0.        ,    1.57079633,  250.        ,\n",
       "        250.        ,  500.        ,  500.        ,    0.        ,\n",
       "          0.        ,    0.        ,    0.        ,    1.57079633,\n",
       "        250.        ,  250.        ,  500.        , -500.        ,\n",
       "          0.        ,    0.        ,    0.        ,    0.        ,\n",
       "          1.57079633,  250.        ,  250.        , -500.        ,\n",
       "       -500.        ,    0.        ,    0.        ,    0.        ,\n",
       "          0.        ,    1.57079633,  250.        ,  250.        ])"
      ]
     },
     "execution_count": 57,
     "metadata": {},
     "output_type": "execute_result"
    }
   ],
   "source": [
    "dofs = sq.getDoFs()\n",
    "dofs[jointDoFIndices]"
   ]
  },
  {
   "cell_type": "code",
   "execution_count": 58,
   "id": "cd52dd2b",
   "metadata": {},
   "outputs": [],
   "source": [
    "topLeft = jointDoFIndices[0:9]\n",
    "topRight = jointDoFIndices[9:18]\n",
    "bottomRight = jointDoFIndices[18:27]\n",
    "bottomLeft = jointDoFIndices[27:36]"
   ]
  },
  {
   "cell_type": "code",
   "execution_count": 59,
   "id": "ff094c25",
   "metadata": {},
   "outputs": [
    {
     "data": {
      "text/plain": [
       "(array([-500.        ,  500.        ,    0.        ,    0.        ,\n",
       "           0.        ,    0.        ,    1.57079633,  250.        ,\n",
       "         250.        ]),\n",
       " array([-500.        , -500.        ,    0.        ,    0.        ,\n",
       "           0.        ,    0.        ,    1.57079633,  250.        ,\n",
       "         250.        ]),\n",
       " array([500.        , 500.        ,   0.        ,   0.        ,\n",
       "          0.        ,   0.        ,   1.57079633, 250.        ,\n",
       "        250.        ]),\n",
       " array([ 500.        , -500.        ,    0.        ,    0.        ,\n",
       "           0.        ,    0.        ,    1.57079633,  250.        ,\n",
       "         250.        ]))"
      ]
     },
     "execution_count": 59,
     "metadata": {},
     "output_type": "execute_result"
    }
   ],
   "source": [
    "sq.getDoFs()[topLeft], sq.getDoFs()[bottomLeft], sq.getDoFs()[topRight], sq.getDoFs()[bottomRight]\n",
    "# go up the call stack"
   ]
  },
  {
   "cell_type": "code",
   "execution_count": 60,
   "id": "45ee81b1",
   "metadata": {},
   "outputs": [],
   "source": [
    "f = [0] * sq.numDoF()\n",
    "f[bottomLeft[1]] = -5000\n",
    "\n",
    "rigidMotionVars = [] # bottomLeft + topLeft"
   ]
  },
  {
   "cell_type": "code",
   "execution_count": 61,
   "id": "ecb48d0f",
   "metadata": {},
   "outputs": [],
   "source": [
    "with so(): elastic_rods.compute_equilibrium(sq, externalForces=f, fixedVars=topRight)\n",
    "    # step up"
   ]
  },
  {
   "cell_type": "code",
   "execution_count": 62,
   "id": "30581621",
   "metadata": {},
   "outputs": [
    {
     "data": {
      "application/vnd.jupyter.widget-view+json": {
       "model_id": "287e1910d6ef4969bc6beeb43f7f4d30",
       "version_major": 2,
       "version_minor": 0
      },
      "text/plain": [
       "Renderer(camera=PerspectiveCamera(children=(PointLight(color='white', intensity=0.6, position=(0.0, 0.0, 5.0),…"
      ]
     },
     "metadata": {},
     "output_type": "display_data"
    }
   ],
   "source": [
    "deformedView = linkage_vis.LinkageViewer(sq)\n",
    "deformedView.show()"
   ]
  },
  {
   "cell_type": "code",
   "execution_count": 63,
   "id": "05cf7001",
   "metadata": {},
   "outputs": [
    {
     "data": {
      "text/plain": [
       "(array([500.        , 500.        ,   0.        ,   0.        ,\n",
       "          0.        ,   0.        ,   1.57079633, 250.        ,\n",
       "        250.        ]),\n",
       " array([ 5.00052832e+02, -4.99999996e+02, -3.56948679e-17,  0.00000000e+00,\n",
       "         0.00000000e+00,  0.00000000e+00,  1.64902190e+00,  2.49999999e+02,\n",
       "         2.49999992e+02]))"
      ]
     },
     "execution_count": 63,
     "metadata": {},
     "output_type": "execute_result"
    }
   ],
   "source": [
    "sq.getDoFs()[topRight], sq.getDoFs()[bottomRight]"
   ]
  },
  {
   "cell_type": "code",
   "execution_count": 64,
   "id": "657b0ad1",
   "metadata": {},
   "outputs": [
    {
     "data": {
      "text/plain": [
       "(array([-4.96211908e+02,  4.21823703e+02, -1.03583689e-18,  0.00000000e+00,\n",
       "         0.00000000e+00,  0.00000000e+00,  1.69076240e+00,  2.50012501e+02,\n",
       "         2.50001496e+02]),\n",
       " array([-4.96882780e+02, -5.78226074e+02,  2.06206259e-16,  0.00000000e+00,\n",
       "         0.00000000e+00,  0.00000000e+00,  1.64977325e+00,  2.50012501e+02,\n",
       "         2.49999992e+02]))"
      ]
     },
     "execution_count": 64,
     "metadata": {},
     "output_type": "execute_result"
    }
   ],
   "source": [
    "sq.getDoFs()[topLeft], sq.getDoFs()[bottomLeft]"
   ]
  },
  {
   "cell_type": "code",
   "execution_count": 65,
   "id": "df7969be",
   "metadata": {},
   "outputs": [
    {
     "data": {
      "application/vnd.jupyter.widget-view+json": {
       "model_id": "0727c793465a444fb125d48952e2eaca",
       "version_major": 2,
       "version_minor": 0
      },
      "text/plain": [
       "Renderer(camera=PerspectiveCamera(children=(PointLight(color='white', intensity=0.6, position=(0.0, 0.0, 5.0),…"
      ]
     },
     "metadata": {},
     "output_type": "display_data"
    }
   ],
   "source": [
    "deformedViewXX = linkage_vis.LinkageViewer(sq)\n",
    "deformedViewXX.show()"
   ]
  },
  {
   "cell_type": "code",
   "execution_count": 66,
   "id": "88a5b71a",
   "metadata": {},
   "outputs": [],
   "source": [
    "from open_linkage import open_linkage\n",
    "def equilibriumSolver(tgtAngle, sq, opts, fv):\n",
    "    opts.gradTol = 1e-4\n",
    "    return elastic_rods.compute_equilibrium(sq, tgtAngle, options=opts, fixedVars=fv)\n",
    "with so(): open_linkage(sq, driver, np.deg2rad(60) - sq.averageJointAngle, 40, deformedViewXX, equilibriumSolver=equilibriumSolver, maxNewtonIterationsIntermediate=20, useTargetAngleConstraint=True);"
   ]
  },
  {
   "cell_type": "code",
   "execution_count": 67,
   "id": "ea4bd02d",
   "metadata": {},
   "outputs": [
    {
     "data": {
      "text/plain": [
       "(array([-4.96211908e+02,  4.21823703e+02, -1.03583689e-18,  0.00000000e+00,\n",
       "         0.00000000e+00,  0.00000000e+00,  1.04719755e+00,  2.50000000e+02,\n",
       "         2.50000000e+02]),\n",
       " array([4.83357511e+02, 2.20717378e+02, 8.24936825e-17, 0.00000000e+00,\n",
       "        0.00000000e+00, 0.00000000e+00, 1.04719755e+00, 2.50000000e+02,\n",
       "        2.50000000e+02]),\n",
       " array([-1.80590385e+02, -5.27061461e+02,  1.68866574e-16,  0.00000000e+00,\n",
       "         0.00000000e+00,  0.00000000e+00,  1.04719755e+00,  2.50000000e+02,\n",
       "         2.50000000e+02]),\n",
       " array([ 7.98979033e+02, -7.28167786e+02, -2.57134115e-16,  0.00000000e+00,\n",
       "         0.00000000e+00,  0.00000000e+00,  1.04719755e+00,  2.50000000e+02,\n",
       "         2.50000000e+02]))"
      ]
     },
     "execution_count": 67,
     "metadata": {},
     "output_type": "execute_result"
    }
   ],
   "source": [
    "sq.getDoFs()[topLeft], sq.getDoFs()[topRight], sq.getDoFs()[bottomLeft], sq.getDoFs()[bottomRight]"
   ]
  },
  {
   "cell_type": "code",
   "execution_count": 68,
   "id": "8cb582dd",
   "metadata": {},
   "outputs": [],
   "source": [
    "f = [0] * sq.numDoF()\n",
    "f[topRight[1]] = -100\n",
    "with so(): elastic_rods.compute_equilibrium(sq, f, fixedVars=topLeft[0:3])"
   ]
  },
  {
   "cell_type": "code",
   "execution_count": 69,
   "id": "6b7f0735",
   "metadata": {},
   "outputs": [
    {
     "data": {
      "application/vnd.jupyter.widget-view+json": {
       "model_id": "9b06caa6a543471b89266c314b9f2e4b",
       "version_major": 2,
       "version_minor": 0
      },
      "text/plain": [
       "Renderer(camera=PerspectiveCamera(children=(PointLight(color='white', intensity=0.6, position=(0.0, 0.0, 5.0),…"
      ]
     },
     "metadata": {},
     "output_type": "display_data"
    }
   ],
   "source": [
    "deformedViewX = linkage_vis.LinkageViewer(sq)\n",
    "deformedViewX.show()"
   ]
  },
  {
   "cell_type": "code",
   "execution_count": 70,
   "id": "d0063b32",
   "metadata": {},
   "outputs": [
    {
     "data": {
      "text/plain": [
       "(array([-4.96211908e+02,  4.21823703e+02, -1.03583689e-18,  0.00000000e+00,\n",
       "         0.00000000e+00,  0.00000000e+00,  1.38514851e-01,  2.50000520e+02,\n",
       "         2.49999688e+02]),\n",
       " array([ 8.20626200e+01, -3.94059718e+02,  1.48559108e+00,  0.00000000e+00,\n",
       "         0.00000000e+00,  0.00000000e+00,  1.38461559e-01,  2.49999480e+02,\n",
       "         2.49999688e+02]),\n",
       " array([-3.58418779e+01, -4.65867429e+02, -9.65690550e+00,  0.00000000e+00,\n",
       "         0.00000000e+00,  0.00000000e+00,  1.38568179e-01,  2.50000520e+02,\n",
       "         2.50000514e+02]),\n",
       " array([ 5.42479756e+02, -1.28172149e+03, -8.20220779e+00,  0.00000000e+00,\n",
       "         0.00000000e+00,  0.00000000e+00,  1.38514887e-01,  2.49999480e+02,\n",
       "         2.50000514e+02]))"
      ]
     },
     "execution_count": 70,
     "metadata": {},
     "output_type": "execute_result"
    }
   ],
   "source": [
    "sq.getDoFs()[topLeft], sq.getDoFs()[topRight], sq.getDoFs()[bottomLeft], sq.getDoFs()[bottomRight]"
   ]
  },
  {
   "cell_type": "code",
   "execution_count": null,
   "id": "9c600181",
   "metadata": {},
   "outputs": [],
   "source": []
  },
  {
   "cell_type": "code",
   "execution_count": null,
   "id": "1bffae7c",
   "metadata": {},
   "outputs": [],
   "source": []
  }
 ],
 "metadata": {
  "kernelspec": {
   "display_name": "Python 3 (ipykernel)",
   "language": "python",
   "name": "python3"
  },
  "language_info": {
   "codemirror_mode": {
    "name": "ipython",
    "version": 3
   },
   "file_extension": ".py",
   "mimetype": "text/x-python",
   "name": "python",
   "nbconvert_exporter": "python",
   "pygments_lexer": "ipython3",
   "version": "3.8.10"
  }
 },
 "nbformat": 4,
 "nbformat_minor": 5
}
