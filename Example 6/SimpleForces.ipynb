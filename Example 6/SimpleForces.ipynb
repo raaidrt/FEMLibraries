{
 "cells": [
  {
   "cell_type": "code",
   "execution_count": 32,
   "id": "f33c75a9",
   "metadata": {},
   "outputs": [],
   "source": [
    "import sys\n",
    "sys.path.append('..')\n",
    "import elastic_rods\n",
    "import numpy as np\n",
    "from typing import NamedTuple\n",
    "from bending_validation import suppress_stdout as so"
   ]
  },
  {
   "cell_type": "code",
   "execution_count": 33,
   "id": "9d8534a0",
   "metadata": {},
   "outputs": [],
   "source": [
    "npts = 499\n",
    "rodWidth = 520\n",
    "pts = np.linspace(np.array([-rodWidth / 2, 0, 0]), np.array([rodWidth / 2, 0, 0]), npts)\n",
    "midpt = (npts + 1) // 2"
   ]
  },
  {
   "cell_type": "code",
   "execution_count": 34,
   "id": "c4817cc5",
   "metadata": {},
   "outputs": [],
   "source": [
    "r = elastic_rods.ElasticRod(pts)\n",
    "r.setMaterial(elastic_rods.RodMaterial('rectangle', 4.0e10 / 1e6, 0.3, [12,12]))"
   ]
  },
  {
   "cell_type": "code",
   "execution_count": 35,
   "id": "978846e4",
   "metadata": {},
   "outputs": [
    {
     "data": {
      "application/vnd.jupyter.widget-view+json": {
       "model_id": "c86d11b822ef43d4abe6fdb5a304d171",
       "version_major": 2,
       "version_minor": 0
      },
      "text/plain": [
       "Renderer(camera=PerspectiveCamera(children=(PointLight(color='white', intensity=0.6, position=(0.0, 0.0, 5.0),…"
      ]
     },
     "metadata": {},
     "output_type": "display_data"
    }
   ],
   "source": [
    "import linkage_vis\n",
    "view = linkage_vis.LinkageViewer(r)\n",
    "view.show()"
   ]
  },
  {
   "cell_type": "code",
   "execution_count": 36,
   "id": "6939be18",
   "metadata": {},
   "outputs": [],
   "source": [
    "# ForceArray = np.array([ v_1x, v_1y, v_1z, v_2x, v_2y, v_2z, ..., v_nx, v_ny, v_nz, e_1, e_2,..., e_n-1 ])"
   ]
  },
  {
   "cell_type": "code",
   "execution_count": 37,
   "id": "44d04c62",
   "metadata": {},
   "outputs": [
    {
     "data": {
      "text/plain": [
       "249"
      ]
     },
     "execution_count": 37,
     "metadata": {},
     "output_type": "execute_result"
    }
   ],
   "source": [
    "r.deformedPoints()[499 // 2]\n",
    "499 // 2"
   ]
  },
  {
   "cell_type": "code",
   "execution_count": 38,
   "id": "9bb2d79e",
   "metadata": {},
   "outputs": [],
   "source": [
    "f = [0] * 1995"
   ]
  },
  {
   "cell_type": "code",
   "execution_count": 39,
   "id": "b4d219e1",
   "metadata": {},
   "outputs": [],
   "source": [
    "f[1] = 100"
   ]
  },
  {
   "cell_type": "code",
   "execution_count": 40,
   "id": "eb00bced",
   "metadata": {},
   "outputs": [],
   "source": [
    "rigidMotionVars = [(midpt - 1) * 3, (midpt - 1) * 3 + 1, (midpt - 1) * 3 + 2, \n",
    "                   (npts - 1) * 3, (npts - 1) * 3 + 1, (npts - 1) * 3 + 2]"
   ]
  },
  {
   "cell_type": "code",
   "execution_count": 41,
   "id": "552608f8",
   "metadata": {},
   "outputs": [],
   "source": [
    "with so(): elastic_rods.compute_equilibrium(r, f, fixedVars=rigidMotionVars)"
   ]
  },
  {
   "cell_type": "code",
   "execution_count": 22,
   "id": "4b9c2814",
   "metadata": {},
   "outputs": [],
   "source": [
    "view.update(preserveExisting=False)"
   ]
  },
  {
   "cell_type": "code",
   "execution_count": 23,
   "id": "0f380187",
   "metadata": {},
   "outputs": [],
   "source": [
    "a = elastic_rods.NewtonOptimizerOptions()"
   ]
  },
  {
   "cell_type": "code",
   "execution_count": 12,
   "id": "55415af9",
   "metadata": {},
   "outputs": [
    {
     "data": {
      "text/plain": [
       "(499, 3)"
      ]
     },
     "execution_count": 12,
     "metadata": {},
     "output_type": "execute_result"
    }
   ],
   "source": [
    "np.array(r.deformedPoints()).shape"
   ]
  },
  {
   "cell_type": "code",
   "execution_count": null,
   "id": "ea9b1873",
   "metadata": {},
   "outputs": [],
   "source": []
  }
 ],
 "metadata": {
  "kernelspec": {
   "display_name": "Python 3 (ipykernel)",
   "language": "python",
   "name": "python3"
  },
  "language_info": {
   "codemirror_mode": {
    "name": "ipython",
    "version": 3
   },
   "file_extension": ".py",
   "mimetype": "text/x-python",
   "name": "python",
   "nbconvert_exporter": "python",
   "pygments_lexer": "ipython3",
   "version": "3.8.10"
  }
 },
 "nbformat": 4,
 "nbformat_minor": 5
}
